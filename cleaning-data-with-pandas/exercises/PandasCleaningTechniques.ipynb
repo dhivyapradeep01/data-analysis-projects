{
 "cells": [
  {
   "cell_type": "markdown",
   "metadata": {},
   "source": [
    "# Cleaning Data with Pandas Exercises\n",
    "\n",
    "For the exercises, you will be cleaning data in the Women's Clothing E-Commerce Reviews dataset.\n",
    "\n",
    "To start cleaning data, we first need to create a dataframe from the CSV and print out any relevant info to make sure our dataframe is ready to go."
   ]
  },
  {
   "cell_type": "code",
   "execution_count": 2,
   "metadata": {},
   "outputs": [],
   "source": [
    "# Import pandas and any other libraries you need here.\n",
    "import pandas as pd\n",
    "\n",
    "# Create a new dataframe from your CSV\n",
    "#I don't want the first column to be imported so I tell python that the first column is index column\n",
    "ReviewDataFrame = pd.read_csv('Womens Clothing E-Commerce Reviews.csv', index_col=0)"
   ]
  },
  {
   "cell_type": "code",
   "execution_count": 3,
   "metadata": {},
   "outputs": [
    {
     "name": "stdout",
     "output_type": "stream",
     "text": [
      "   Clothing ID  Age                    Title  \\\n",
      "0          767   33                      NaN   \n",
      "1         1080   34                      NaN   \n",
      "2         1077   60  Some major design flaws   \n",
      "3         1049   50         My favorite buy!   \n",
      "4          847   47         Flattering shirt   \n",
      "\n",
      "                                         Review Text  Rating  Recommended IND  \\\n",
      "0  Absolutely wonderful - silky and sexy and comf...       4                1   \n",
      "1  Love this dress!  it's sooo pretty.  i happene...       5                1   \n",
      "2  I had such high hopes for this dress and reall...       3                0   \n",
      "3  I love, love, love this jumpsuit. it's fun, fl...       5                1   \n",
      "4  This shirt is very flattering to all due to th...       5                1   \n",
      "\n",
      "   Positive Feedback Count   Division Name Department Name Class Name  \n",
      "0                        0       Initmates        Intimate  Intimates  \n",
      "1                        4         General         Dresses    Dresses  \n",
      "2                        0         General         Dresses    Dresses  \n",
      "3                        0  General Petite         Bottoms      Pants  \n",
      "4                        6         General            Tops    Blouses  \n"
     ]
    }
   ],
   "source": [
    "# Print out any information you need to understand your dataframe\n",
    "print(ReviewDataFrame.head())"
   ]
  },
  {
   "cell_type": "markdown",
   "metadata": {},
   "source": [
    "## Missing Data\n",
    "\n",
    "Try out different methods to locate and resolve missing data."
   ]
  },
  {
   "cell_type": "code",
   "execution_count": 4,
   "metadata": {},
   "outputs": [
    {
     "name": "stdout",
     "output_type": "stream",
     "text": [
      "       Clothing ID  Age                                  Title  \\\n",
      "9444            72   25                   My favorite socks!!!   \n",
      "13767          492   23                               So soft!   \n",
      "13768          492   49                        Wardrobe staple   \n",
      "13787          492   48                                    NaN   \n",
      "16216          152   36                          Warm and cozy   \n",
      "16221          152   37                                  Love!   \n",
      "16223          152   39                        \"long and warm\"   \n",
      "18626          184   34                  Nubby footless tights   \n",
      "18671          184   54                          New workhorse   \n",
      "20088          772   50                      Comfy sweatshirt!   \n",
      "21532          665   43                           So worth it!   \n",
      "22997          136   47  Charcoal, pale gray, a bit of silver!   \n",
      "23006          136   33                        Cute itsy socks   \n",
      "23011          136   36                            Super socks   \n",
      "\n",
      "                                             Review Text  Rating  \\\n",
      "9444   I never write reviews, but these socks are so ...       5   \n",
      "13767  I just love this hoodie! it is so soft and com...       5   \n",
      "13768  Love this hoodie. so soft and goes with everyt...       5   \n",
      "13787                                                NaN       5   \n",
      "16216  Just what i was looking for. soft, cozy and warm.       5   \n",
      "16221  I am loving these. they are quite long but are...       5   \n",
      "16223  These leg warmers are perfect for me. they are...       5   \n",
      "18626  These are amazing quality. i agree, size up to...       5   \n",
      "18671  These tights are amazing! if i care for them w...       5   \n",
      "20088  This sweatshirt is really nice!  it's oversize...       5   \n",
      "21532  Got these on sale...absolutely love eberjey! f...       5   \n",
      "22997  These socks are soft and comfortable, and they...       5   \n",
      "23006  Love polkadots, love sparkle. these little soc...       5   \n",
      "23011  I love these little socks ? and the dots spark...       5   \n",
      "\n",
      "       Recommended IND  Positive Feedback Count Division Name Department Name  \\\n",
      "9444                 1                        0           NaN             NaN   \n",
      "13767                1                        1           NaN             NaN   \n",
      "13768                1                        0           NaN             NaN   \n",
      "13787                1                        0           NaN             NaN   \n",
      "16216                1                        0           NaN             NaN   \n",
      "16221                1                        0           NaN             NaN   \n",
      "16223                1                        0           NaN             NaN   \n",
      "18626                1                        5           NaN             NaN   \n",
      "18671                1                        0           NaN             NaN   \n",
      "20088                1                        0           NaN             NaN   \n",
      "21532                1                        0           NaN             NaN   \n",
      "22997                1                        1           NaN             NaN   \n",
      "23006                1                        0           NaN             NaN   \n",
      "23011                1                        0           NaN             NaN   \n",
      "\n",
      "      Class Name  \n",
      "9444         NaN  \n",
      "13767        NaN  \n",
      "13768        NaN  \n",
      "13787        NaN  \n",
      "16216        NaN  \n",
      "16221        NaN  \n",
      "16223        NaN  \n",
      "18626        NaN  \n",
      "18671        NaN  \n",
      "20088        NaN  \n",
      "21532        NaN  \n",
      "22997        NaN  \n",
      "23006        NaN  \n",
      "23011        NaN  \n"
     ]
    }
   ],
   "source": [
    "# Try to find some missing data\n",
    "#ReviewDataFrame.isna()\n",
    "#rows_with_missing_data = ReviewDataFrame[ReviewDataFrame.isna().any(axis=1)]\n",
    "rows_with_missing_data = ReviewDataFrame[ReviewDataFrame.drop(columns=['Title','Review Text']).isna().any(axis=1)]\n",
    "\n",
    "print (rows_with_missing_data)"
   ]
  },
  {
   "cell_type": "markdown",
   "metadata": {},
   "source": [
    "Did you find any missing data? What things worked well for you and what did not?"
   ]
  },
  {
   "cell_type": "code",
   "execution_count": 5,
   "metadata": {},
   "outputs": [
    {
     "data": {
      "text/plain": [
       "\"\\nInitially, I used .isna() to check for missing values, \\nbut it showed all the rows, which wasn't very useful for identifying the problematic ones. \\nTo address this, I filtered the DataFrame to display only the rows with missing data using the following code:\\n \\n        rows_with_missing_data = ReviewDataFrame[ReviewDataFrame.isna().any(axis=1)]\\n\\nThis revealed that many rows had missing data in the Title and Review Text columns.\\nSince I don't need these two columns for my analysis, I updated the code to exclude them from the check by dropping them:\\n\\n    rows_with_missing_data = ReviewDataFrame[ReviewDataFrame.drop(columns=['Title', 'Review Text']).isna().any(axis=1)]\\n\\n\\n\""
      ]
     },
     "execution_count": 5,
     "metadata": {},
     "output_type": "execute_result"
    }
   ],
   "source": [
    "# Respond to the above questions here:\n",
    "'''\n",
    "Initially, I used .isna() to check for missing values, \n",
    "but it showed all the rows, which wasn't very useful for identifying the problematic ones. \n",
    "To address this, I filtered the DataFrame to display only the rows with missing data using the following code:\n",
    " \n",
    "        rows_with_missing_data = ReviewDataFrame[ReviewDataFrame.isna().any(axis=1)]\n",
    "\n",
    "This revealed that many rows had missing data in the Title and Review Text columns.\n",
    "Since I don't need these two columns for my analysis, I updated the code to exclude them from the check by dropping them:\n",
    "\n",
    "    rows_with_missing_data = ReviewDataFrame[ReviewDataFrame.drop(columns=['Title', 'Review Text']).isna().any(axis=1)]\n",
    "\n",
    "\n",
    "'''\n"
   ]
  },
  {
   "cell_type": "markdown",
   "metadata": {},
   "source": [
    "## Irregular Data\n",
    "\n",
    "With missing data out of the way, turn your attention to any outliers. Just as we did for missing data, we first need to detect the outliers."
   ]
  },
  {
   "cell_type": "code",
   "execution_count": 6,
   "metadata": {},
   "outputs": [
    {
     "name": "stdout",
     "output_type": "stream",
     "text": [
      "                Age        Rating  Recommended IND  Positive Feedback Count\n",
      "count  23486.000000  23486.000000     23486.000000             23486.000000\n",
      "mean      43.198544      4.196032         0.822362                 2.535936\n",
      "std       12.279544      1.110031         0.382216                 5.702202\n",
      "min       18.000000      1.000000         0.000000                 0.000000\n",
      "25%       34.000000      4.000000         1.000000                 0.000000\n",
      "50%       41.000000      5.000000         1.000000                 1.000000\n",
      "75%       52.000000      5.000000         1.000000                 3.000000\n",
      "max       99.000000      5.000000         1.000000               122.000000\n"
     ]
    },
    {
     "data": {
      "image/png": "[encoded data removed]",
      "text/plain": [
       "<Figure size 640x480 with 1 Axes>"
      ]
     },
     "metadata": {},
     "output_type": "display_data"
    }
   ],
   "source": [
    "# Keep an eye out for outliers!\n",
    "import matplotlib.pyplot  as plt\n",
    "\n",
    "# Drop columns that we don't need to analyze from the DataFrame before using describe\n",
    "ReviewDataFrame_dropped = ReviewDataFrame.drop(columns=['Clothing ID'])\n",
    "# Get descriptive statistics\n",
    "summary = ReviewDataFrame_dropped.describe()\n",
    "print(summary)\n",
    "\n",
    "# Plot boxlplot of the 'Rating' column\n",
    "ReviewDataFrame_dropped[['Age','Positive Feedback Count']].boxplot()\n",
    "# Show the plot\n",
    "plt.show()\n",
    "\n"
   ]
  },
  {
   "cell_type": "markdown",
   "metadata": {},
   "source": [
    "What techniques helped you find outliers? In your opinion, what about the techniques you used made them effective?"
   ]
  },
  {
   "cell_type": "code",
   "execution_count": 7,
   "metadata": {},
   "outputs": [
    {
     "data": {
      "text/plain": [
       "' At first I used the describe() to get some descriptive stats. \\nBased on that, I could see the positive feedback count had outliers with max of 122 but a mean of only 2.53. \\nAge has some high values as well with max of 99.\\nI did a box plot and it shows outliers in the higher range for Age and positive feedback count\\n'"
      ]
     },
     "execution_count": 7,
     "metadata": {},
     "output_type": "execute_result"
    }
   ],
   "source": [
    "# Make your notes here:\n",
    "''' At first I used the describe() to get some descriptive stats. \n",
    "Based on that, I could see the positive feedback count had outliers with max of 122 but a mean of only 2.53. \n",
    "Age has some high values as well with max of 99.\n",
    "I did a box plot and it shows outliers in the higher range for Age and positive feedback count\n",
    "'''"
   ]
  },
  {
   "cell_type": "markdown",
   "metadata": {},
   "source": [
    "## Unnecessary Data\n",
    "\n",
    "Unnecessary data could be irrelevant to your analysis or a duplice column. Check out the dataset to see if there is any unnecessary data."
   ]
  },
  {
   "cell_type": "code",
   "execution_count": 8,
   "metadata": {},
   "outputs": [
    {
     "name": "stdout",
     "output_type": "stream",
     "text": [
      "       Age  Rating  Recommended IND  Positive Feedback Count   Division Name  \\\n",
      "0       33       4                1                        0       Initmates   \n",
      "1       34       5                1                        4         General   \n",
      "2       60       3                0                        0         General   \n",
      "3       50       5                1                        0  General Petite   \n",
      "4       47       5                1                        6         General   \n",
      "...    ...     ...              ...                      ...             ...   \n",
      "23481   34       5                1                        0  General Petite   \n",
      "23482   48       3                1                        0  General Petite   \n",
      "23483   31       3                0                        1  General Petite   \n",
      "23484   28       3                1                        2         General   \n",
      "23485   52       5                1                       22  General Petite   \n",
      "\n",
      "      Department Name Class Name  \n",
      "0            Intimate  Intimates  \n",
      "1             Dresses    Dresses  \n",
      "2             Dresses    Dresses  \n",
      "3             Bottoms      Pants  \n",
      "4                Tops    Blouses  \n",
      "...               ...        ...  \n",
      "23481         Dresses    Dresses  \n",
      "23482            Tops      Knits  \n",
      "23483         Dresses    Dresses  \n",
      "23484         Dresses    Dresses  \n",
      "23485         Dresses    Dresses  \n",
      "\n",
      "[23486 rows x 7 columns]\n"
     ]
    }
   ],
   "source": [
    "# Look out for unnecessary data!\n",
    "\n",
    "ReviewDataFrame = ReviewDataFrame.drop(columns=['Clothing ID', 'Title', 'Review Text'])\n",
    "\n",
    "print(ReviewDataFrame)"
   ]
  },
  {
   "cell_type": "markdown",
   "metadata": {},
   "source": [
    "Did you find any unnecessary data in your dataset? How did you handle it?"
   ]
  },
  {
   "cell_type": "code",
   "execution_count": 9,
   "metadata": {},
   "outputs": [
    {
     "data": {
      "text/plain": [
       "\"\\nI don't need 'Clothing ID', 'Title', 'Review Text' so I dropped them \\n\""
      ]
     },
     "execution_count": 9,
     "metadata": {},
     "output_type": "execute_result"
    }
   ],
   "source": [
    "# Make your notes here.\n",
    "'''\n",
    "I don't need 'Clothing ID', 'Title', 'Review Text' so I dropped them \n",
    "'''\n"
   ]
  },
  {
   "cell_type": "markdown",
   "metadata": {},
   "source": [
    "## Inconsistent Data\n",
    "\n",
    "Inconsistent data is likely due to inconsistent formatting and can be addressed by re-formatting all values in a column or row."
   ]
  },
  {
   "cell_type": "code",
   "execution_count": 10,
   "metadata": {},
   "outputs": [
    {
     "name": "stdout",
     "output_type": "stream",
     "text": [
      "       Age  Rating  Recommended IND  Positive Feedback Count   Division Name  \\\n",
      "0       33       4             True                        0       Initmates   \n",
      "1       34       5             True                        4         General   \n",
      "2       60       3            False                        0         General   \n",
      "3       50       5             True                        0  General Petite   \n",
      "4       47       5             True                        6         General   \n",
      "...    ...     ...              ...                      ...             ...   \n",
      "23481   34       5             True                        0  General Petite   \n",
      "23482   48       3             True                        0  General Petite   \n",
      "23483   31       3            False                        1  General Petite   \n",
      "23484   28       3             True                        2         General   \n",
      "23485   52       5             True                       22  General Petite   \n",
      "\n",
      "      Department Name Class Name  \n",
      "0            Intimate  Intimates  \n",
      "1             Dresses    Dresses  \n",
      "2             Dresses    Dresses  \n",
      "3             Bottoms      Pants  \n",
      "4                Tops    Blouses  \n",
      "...               ...        ...  \n",
      "23481         Dresses    Dresses  \n",
      "23482            Tops      Knits  \n",
      "23483         Dresses    Dresses  \n",
      "23484         Dresses    Dresses  \n",
      "23485         Dresses    Dresses  \n",
      "\n",
      "[23486 rows x 7 columns]\n"
     ]
    }
   ],
   "source": [
    "# Look out for inconsistent data!\n",
    "\n",
    "ReviewDataFrame['Recommended IND'] = ReviewDataFrame['Recommended IND'].astype('bool')\n",
    "print(ReviewDataFrame)"
   ]
  },
  {
   "cell_type": "markdown",
   "metadata": {},
   "source": [
    "Did you find any inconsistent data? What did you do to clean it?"
   ]
  },
  {
   "cell_type": "code",
   "execution_count": 11,
   "metadata": {},
   "outputs": [
    {
     "data": {
      "text/plain": [
       "\"\\nI didn't find inconsistent data but converted Recommended IND to boolean as that makes more sense than a number\\n\""
      ]
     },
     "execution_count": 11,
     "metadata": {},
     "output_type": "execute_result"
    }
   ],
   "source": [
    "# Make your notes here!\n",
    "'''\n",
    "I didn't find inconsistent data but converted Recommended IND to boolean as that makes more sense than a number\n",
    "'''"
   ]
  }
 ],
 "metadata": {
  "kernelspec": {
   "display_name": "venv",
   "language": "python",
   "name": "python3"
  },
  "language_info": {
   "codemirror_mode": {
    "name": "ipython",
    "version": 3
   },
   "file_extension": ".py",
   "mimetype": "text/x-python",
   "name": "python",
   "nbconvert_exporter": "python",
   "pygments_lexer": "ipython3",
   "version": "3.12.5"
  }
 },
 "nbformat": 4,
 "nbformat_minor": 4
}
